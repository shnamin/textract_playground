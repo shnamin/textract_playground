{
 "cells": [
  {
   "cell_type": "markdown",
   "metadata": {},
   "source": [
    "# A playground for Amazon Rekognition\n"
   ]
  },
  {
   "cell_type": "markdown",
   "metadata": {},
   "source": [
    "Make sure your default aws credentials are properly defined. In linux, the credentials file lives in `~/.aws/credentials`."
   ]
  },
  {
   "cell_type": "code",
   "execution_count": 3,
   "metadata": {},
   "outputs": [],
   "source": [
    "s3_bucket = 'datarock-textract-test'\n",
    "input_dir = 'data'\n",
    "results_dir = 'rekognition-results'"
   ]
  },
  {
   "cell_type": "code",
   "execution_count": 4,
   "metadata": {},
   "outputs": [],
   "source": [
    "import boto3\n",
    "import cv2\n",
    "import numpy as np"
   ]
  },
  {
   "cell_type": "code",
   "execution_count": 5,
   "metadata": {},
   "outputs": [
    {
     "name": "stdout",
     "output_type": "stream",
     "text": [
      "7 files found in s3://datarock-textract-test/data directory\n"
     ]
    }
   ],
   "source": [
    "#get list of documents in the s3 bucket/input_dir\n",
    "import boto3\n",
    "s3 = boto3.resource('s3')\n",
    "my_bucket = s3.Bucket(s3_bucket)\n",
    "img_names=[]\n",
    "for object_summary in my_bucket.objects.filter(Prefix=input_dir+'/'):\n",
    "    \n",
    "    file_name=object_summary.key.replace(input_dir+'/','')\n",
    "    if len(file_name)>0 :\n",
    "        img_names.append(file_name )\n",
    "\n",
    "print(f'{len(img_names)} files found in {\"s3://\"+s3_bucket+\"/\"+input_dir} directory')"
   ]
  },
  {
   "cell_type": "code",
   "execution_count": 16,
   "metadata": {},
   "outputs": [],
   "source": [
    "def detect_text(photo, bucket):\n",
    "\n",
    "    client=boto3.client('rekognition')\n",
    "\n",
    "    response=client.detect_text(Image={'S3Object':{'Bucket':bucket,'Name':photo}})\n",
    "                        \n",
    "    textDetections=response['TextDetections']\n",
    "#     print ('Detected text\\n----------')\n",
    "#     for text in textDetections:\n",
    "#             print ('Detected text:' + text['DetectedText'])\n",
    "#             print ('Confidence: ' + \"{:.2f}\".format(text['Confidence']) + \"%\")\n",
    "#             print ('Id: {}'.format(text['Id']))\n",
    "#             if 'ParentId' in text:\n",
    "#                 print ('Parent Id: {}'.format(text['ParentId']))\n",
    "#             print ('Type:' + text['Type'])\n",
    "#             print()\n",
    "    return response['TextDetections']"
   ]
  },
  {
   "cell_type": "code",
   "execution_count": 17,
   "metadata": {},
   "outputs": [
    {
     "name": "stdout",
     "output_type": "stream",
     "text": [
      "CE002_142+143_469.20_476.20.jpg\n",
      "UE108_005+006_13.90_20.95.JPG\n",
      "UE108_013+014_42.15_48.85.JPG\n",
      "UE108_021+022_69.25_76.05.JPG\n",
      "UE108_029+030_97.15_104.15.JPG\n",
      "UE108_063+064_217.25_224.00.JPG\n",
      "UE108_089+090_308.00_314.95.JPG\n"
     ]
    }
   ],
   "source": [
    "responses={}\n",
    "for img_name in img_names:\n",
    "    print(img_name)\n",
    "    response=detect_text(input_dir+'/'+img_name , s3_bucket)\n",
    "    responses[img_name]=response"
   ]
  },
  {
   "cell_type": "code",
   "execution_count": 18,
   "metadata": {},
   "outputs": [],
   "source": [
    "#Let's draw the found text on the image and save the image to the output directory"
   ]
  },
  {
   "cell_type": "code",
   "execution_count": 19,
   "metadata": {},
   "outputs": [
    {
     "data": {
      "text/plain": [
       "[{'DetectedText': '5032 TRAY 142',\n",
       "  'Type': 'LINE',\n",
       "  'Id': 0,\n",
       "  'Confidence': 82.93951416015625,\n",
       "  'Geometry': {'BoundingBox': {'Width': 0.20028550922870636,\n",
       "    'Height': 0.02435418777167797,\n",
       "    'Left': 0.06528335809707642,\n",
       "    'Top': 0.07405140995979309},\n",
       "   'Polygon': [{'X': 0.06528335809707642, 'Y': 0.07405140995979309},\n",
       "    {'X': 0.26556888222694397, 'Y': 0.07542625069618225},\n",
       "    {'X': 0.2654940187931061, 'Y': 0.09978044033050537},\n",
       "    {'X': 0.06520850211381912, 'Y': 0.09840559214353561}]}},\n",
       " {'DetectedText': 'ILT',\n",
       "  'Type': 'LINE',\n",
       "  'Id': 1,\n",
       "  'Confidence': 90.89039611816406,\n",
       "  'Geometry': {'BoundingBox': {'Width': 0.0,\n",
       "    'Height': 0.0,\n",
       "    'Left': 0.8837209343910217,\n",
       "    'Top': 0.20739910006523132},\n",
       "   'Polygon': [{'X': 0.8837209343910217, 'Y': 0.20739910006523132},\n",
       "    {'X': 0.8837209343910217, 'Y': 0.2556053698062897},\n",
       "    {'X': 0.8582145571708679, 'Y': 0.2556053698062897},\n",
       "    {'X': 0.8582145571708679, 'Y': 0.20739910006523132}]}},\n",
       " {'DetectedText': '72',\n",
       "  'Type': 'LINE',\n",
       "  'Id': 2,\n",
       "  'Confidence': 82.14928436279297,\n",
       "  'Geometry': {'BoundingBox': {'Width': 0.00022166151029523462,\n",
       "    'Height': 0.000283880828646943,\n",
       "    'Left': 0.09280292689800262,\n",
       "    'Top': 0.4716947674751282},\n",
       "   'Polygon': [{'X': 0.09280292689800262, 'Y': 0.4716947674751282},\n",
       "    {'X': 0.0930245891213417, 'Y': 0.42460399866104126},\n",
       "    {'X': 0.1200300082564354, 'Y': 0.42488789558410645},\n",
       "    {'X': 0.11980834603309631, 'Y': 0.47197866439819336}]}},\n",
       " {'DetectedText': '4B',\n",
       "  'Type': 'LINE',\n",
       "  'Id': 3,\n",
       "  'Confidence': 85.84661865234375,\n",
       "  'Geometry': {'BoundingBox': {'Width': 0.0036404451820999384,\n",
       "    'Height': 0.005106229800730944,\n",
       "    'Left': 0.2607647776603699,\n",
       "    'Top': 0.5971207618713379},\n",
       "   'Polygon': [{'X': 0.2607647776603699, 'Y': 0.5971207618713379},\n",
       "    {'X': 0.264405220746994, 'Y': 0.5468891859054565},\n",
       "    {'X': 0.29595470428466797, 'Y': 0.5519953966140747},\n",
       "    {'X': 0.2923142611980438, 'Y': 0.602226972579956}]}},\n",
       " {'DetectedText': 'tlt',\n",
       "  'Type': 'LINE',\n",
       "  'Id': 4,\n",
       "  'Confidence': 94.64141845703125,\n",
       "  'Geometry': {'BoundingBox': {'Width': -0.0019169053994119167,\n",
       "    'Height': -0.0019865280482918024,\n",
       "    'Left': 0.41899242997169495,\n",
       "    'Top': 0.6513750553131104},\n",
       "   'Polygon': [{'X': 0.41899242997169495, 'Y': 0.6513750553131104},\n",
       "    {'X': 0.4170755445957184, 'Y': 0.7071136832237244},\n",
       "    {'X': 0.3912101089954376, 'Y': 0.7051271796226501},\n",
       "    {'X': 0.3931270241737366, 'Y': 0.6493885517120361}]}},\n",
       " {'DetectedText': '5032',\n",
       "  'Type': 'WORD',\n",
       "  'Id': 5,\n",
       "  'ParentId': 0,\n",
       "  'Confidence': 62.216365814208984,\n",
       "  'Geometry': {'BoundingBox': {'Width': 0.0750187560915947,\n",
       "    'Height': 0.013452914543449879,\n",
       "    'Left': 0.06526631861925125,\n",
       "    'Top': 0.07959641516208649},\n",
       "   'Polygon': [{'X': 0.06526631861925125, 'Y': 0.07959641516208649},\n",
       "    {'X': 0.14028507471084595, 'Y': 0.07959641516208649},\n",
       "    {'X': 0.14028507471084595, 'Y': 0.09304932504892349},\n",
       "    {'X': 0.06526631861925125, 'Y': 0.09304932504892349}]}},\n",
       " {'DetectedText': 'TRAY',\n",
       "  'Type': 'WORD',\n",
       "  'Id': 6,\n",
       "  'ParentId': 0,\n",
       "  'Confidence': 91.58336639404297,\n",
       "  'Geometry': {'BoundingBox': {'Width': 0.054025135934352875,\n",
       "    'Height': 0.022434070706367493,\n",
       "    'Left': 0.16579145193099976,\n",
       "    'Top': 0.07623318582773209},\n",
       "   'Polygon': [{'X': 0.16579145193099976, 'Y': 0.07623318582773209},\n",
       "    {'X': 0.21980495750904083, 'Y': 0.07511210441589355},\n",
       "    {'X': 0.2205551415681839, 'Y': 0.09753363579511642},\n",
       "    {'X': 0.16579145193099976, 'Y': 0.09865470975637436}]}},\n",
       " {'DetectedText': '142',\n",
       "  'Type': 'WORD',\n",
       "  'Id': 7,\n",
       "  'ParentId': 0,\n",
       "  'Confidence': 95.01881408691406,\n",
       "  'Geometry': {'BoundingBox': {'Width': 0.03525881469249725,\n",
       "    'Height': 0.023554550483822823,\n",
       "    'Left': 0.23030757904052734,\n",
       "    'Top': 0.07623318582773209},\n",
       "   'Polygon': [{'X': 0.23030757904052734, 'Y': 0.07623318582773209},\n",
       "    {'X': 0.2655663788318634, 'Y': 0.07623318582773209},\n",
       "    {'X': 0.26481619477272034, 'Y': 0.0997757837176323},\n",
       "    {'X': 0.23030757904052734, 'Y': 0.09865470975637436}]}},\n",
       " {'DetectedText': 'ILT',\n",
       "  'Type': 'WORD',\n",
       "  'Id': 8,\n",
       "  'ParentId': 1,\n",
       "  'Confidence': 90.89039611816406,\n",
       "  'Geometry': {'BoundingBox': {'Width': 0.04820627719163895,\n",
       "    'Height': 0.02550637722015381,\n",
       "    'Left': 0.8837209343910217,\n",
       "    'Top': 0.20739910006523132},\n",
       "   'Polygon': [{'X': 0.8837209343910217, 'Y': 0.20739910006523132},\n",
       "    {'X': 0.8837209343910217, 'Y': 0.2556053698062897},\n",
       "    {'X': 0.8582145571708679, 'Y': 0.2556053698062897},\n",
       "    {'X': 0.8582145571708679, 'Y': 0.20739910006523132}]}},\n",
       " {'DetectedText': '72',\n",
       "  'Type': 'WORD',\n",
       "  'Id': 9,\n",
       "  'ParentId': 2,\n",
       "  'Confidence': 82.14928436279297,\n",
       "  'Geometry': {'BoundingBox': {'Width': 0.04596412554383278,\n",
       "    'Height': 0.02700675092637539,\n",
       "    'Left': 0.09302325546741486,\n",
       "    'Top': 0.4708520174026489},\n",
       "   'Polygon': [{'X': 0.09302325546741486, 'Y': 0.4708520174026489},\n",
       "    {'X': 0.09302325546741486, 'Y': 0.42488789558410645},\n",
       "    {'X': 0.1200300082564354, 'Y': 0.42488789558410645},\n",
       "    {'X': 0.11927981674671173, 'Y': 0.47197309136390686}]}},\n",
       " {'DetectedText': '4B',\n",
       "  'Type': 'WORD',\n",
       "  'Id': 10,\n",
       "  'ParentId': 3,\n",
       "  'Confidence': 85.84661865234375,\n",
       "  'Geometry': {'BoundingBox': {'Width': 0.04597024619579315,\n",
       "    'Height': 0.029257314279675484,\n",
       "    'Left': 0.2633158266544342,\n",
       "    'Top': 0.597533643245697},\n",
       "   'Polygon': [{'X': 0.2633158266544342, 'Y': 0.597533643245697},\n",
       "    {'X': 0.26406601071357727, 'Y': 0.5515695214271545},\n",
       "    {'X': 0.2933233380317688, 'Y': 0.5515695214271545},\n",
       "    {'X': 0.29257315397262573, 'Y': 0.5986546874046326}]}},\n",
       " {'DetectedText': 'tlt',\n",
       "  'Type': 'WORD',\n",
       "  'Id': 11,\n",
       "  'ParentId': 4,\n",
       "  'Confidence': 94.64141845703125,\n",
       "  'Geometry': {'BoundingBox': {'Width': 0.05495322123169899,\n",
       "    'Height': 0.025531001389026642,\n",
       "    'Left': 0.41860464215278625,\n",
       "    'Top': 0.6513453125953674},\n",
       "   'Polygon': [{'X': 0.41860464215278625, 'Y': 0.6513453125953674},\n",
       "    {'X': 0.4171042740345001, 'Y': 0.7062780261039734},\n",
       "    {'X': 0.3915978968143463, 'Y': 0.7051569223403931},\n",
       "    {'X': 0.39309826493263245, 'Y': 0.6502242088317871}]}}]"
      ]
     },
     "execution_count": 19,
     "metadata": {},
     "output_type": "execute_result"
    }
   ],
   "source": [
    "responses['CE002_142+143_469.20_476.20.jpg']"
   ]
  },
  {
   "cell_type": "code",
   "execution_count": 20,
   "metadata": {},
   "outputs": [],
   "source": [
    "s3 = boto3.resource('s3')\n",
    "s3_client = boto3.client('s3')\n",
    "def download_into_memory(s3_client,bucket_name,file_url):\n",
    "    s3_response_object = s3_client.get_object(Bucket=bucket_name, Key=file_url)\n",
    "    object_content = s3_response_object['Body'].read()\n",
    "    return object_content\n",
    "def convert_to_img(img_content):\n",
    "    image = np.asarray(bytearray(img_content), dtype=\"uint8\")\n",
    "    image = cv2.imdecode(image, cv2.IMREAD_COLOR)\n",
    "    return image\n",
    "\n",
    "def save_img_to_s3_bucket(img,s3_client,bucket_name,file_url):\n",
    "    img_str = cv2.imencode('.jpg', img)[1].tostring()\n",
    "    s3_client.put_object(Bucket=bucket_name, Key = file_url, Body = img_str, ContentType= 'image/jpeg')  "
   ]
  },
  {
   "cell_type": "code",
   "execution_count": 23,
   "metadata": {},
   "outputs": [],
   "source": [
    "def get_color_codes():\n",
    "#     colors={} #Colors in BGR\n",
    "#     colors['PAGE'] = (128,0,0) \n",
    "#     colors['LINE']= (128,0,0) \n",
    "#     colors['WORD'] = (0,128,0) \n",
    "#     return colors\n",
    "    colors={} #Colors in BGR\\n\",\n",
    "    colors['PAGE'] = (255,0,0) # Blue\n",
    "    colors['WORD']= (0,255,0) #Green\n",
    "    colors['LINE'] = (0,0,255) #Red\n",
    "    return colors\n"
   ]
  },
  {
   "cell_type": "code",
   "execution_count": 54,
   "metadata": {},
   "outputs": [],
   "source": [
    "font = cv2.FONT_HERSHEY_SIMPLEX\n",
    "\n",
    "def convert_polygon_to_coords(img_size,polygon):\n",
    "    #get bbox from polygon\n",
    "    coord= polygon[0]\n",
    "    min_x = coord['X']\n",
    "    min_y = coord['Y']\n",
    "    max_x = coord['X']\n",
    "    max_y = coord['Y']\n",
    "    \n",
    "    \n",
    "    for coord in polygon:\n",
    "        x = coord['X']\n",
    "        y = coord['Y']\n",
    "        \n",
    "        if x< min_x:\n",
    "            min_x=x\n",
    "        if x>max_x:\n",
    "            max_x = x\n",
    "        if y<min_y:\n",
    "            min_y = y\n",
    "        if y>max_y:\n",
    "            max_y = y\n",
    "    bbox={'Left':min_x,'Top': min_y , 'Width':max_x-min_x , 'Height':max_y-min_y}\n",
    "            \n",
    "        \n",
    "    #x coords\n",
    "    start_point_x = int(img_size[1]* bbox['Left'])\n",
    "    end_point_x = int(start_point_x + img_size[1]*bbox['Width'])\n",
    "    #y coords\n",
    "    start_point_y = int(img_size[0] * bbox['Top'])\n",
    "    end_point_y = int(start_point_y + img_size[0] * bbox['Height'])\n",
    "    \n",
    "    return (start_point_x,start_point_y) , (end_point_x,end_point_y)\n",
    "\n",
    "# def draw_on_top_of_img(img,textract_results,color_codes):\n",
    "#     for text_result in textract_results:\n",
    "#         if 'Text' in text_result.keys() and text_result['BlockType'] == 'LINE' :\n",
    "#             drawing_color = color_codes[text_result['BlockType']]\n",
    "#             start_pnt,end_pnt = convert_bbox_to_coords(img.shape,text_result['Geometry']['BoundingBox'])\n",
    "#             img = cv2.rectangle(img, start_pnt, end_pnt, (128,30,0), thickness=1) \n",
    "# #             print(text_result['BlockType'])\n",
    "# #             print(text_result['Text'])\n",
    "# #             print('    \\n')\n",
    "#             cv2.putText(img, text_result['Text'], (end_pnt[0]+2,start_pnt[1]+5), font, 2, (0,0,128), 1, cv2.LINE_AA)\n",
    "#     return img\n",
    "\n",
    "def draw_on_top_of_img(img,textract_results,color_codes):\n",
    "    for text_result in textract_results:\n",
    "        if text_result['Type'] == 'WORD':\n",
    "            drawing_color = color_codes[text_result['Type']]\n",
    "            start_pnt,end_pnt = convert_polygon_to_coords(img.shape,text_result['Geometry']['Polygon'])\n",
    "            img = cv2.rectangle(img, start_pnt, end_pnt, drawing_color, thickness=2) \n",
    "            cv2.putText(img, text_result['DetectedText'], (start_pnt[0]+10,start_pnt[1]+30), font, 1, drawing_color, 2, cv2.LINE_AA)\n",
    "        \n",
    "    return img"
   ]
  },
  {
   "cell_type": "code",
   "execution_count": 55,
   "metadata": {},
   "outputs": [
    {
     "name": "stdout",
     "output_type": "stream",
     "text": [
      "CE002_142+143_469.20_476.20.jpg\n",
      "UE108_005+006_13.90_20.95.JPG\n",
      "UE108_013+014_42.15_48.85.JPG\n",
      "UE108_021+022_69.25_76.05.JPG\n",
      "UE108_029+030_97.15_104.15.JPG\n",
      "UE108_063+064_217.25_224.00.JPG\n",
      "UE108_089+090_308.00_314.95.JPG\n"
     ]
    }
   ],
   "source": [
    "color_codes = get_color_codes()\n",
    "for img_name in img_names:\n",
    "    print(img_name)\n",
    "    img_content = download_into_memory(s3_client,s3_bucket,input_dir+'/'+img_name)\n",
    "    img = convert_to_img(img_content)\n",
    "    resp = responses[img_name]\n",
    "    img=draw_on_top_of_img(img,resp,color_codes)\n",
    "    save_img_to_s3_bucket(img,s3_client,s3_bucket,results_dir+'/'+img_name)"
   ]
  },
  {
   "cell_type": "code",
   "execution_count": null,
   "metadata": {},
   "outputs": [],
   "source": []
  }
 ],
 "metadata": {
  "kernelspec": {
   "display_name": "Python 3",
   "language": "python",
   "name": "python3"
  },
  "language_info": {
   "codemirror_mode": {
    "name": "ipython",
    "version": 3
   },
   "file_extension": ".py",
   "mimetype": "text/x-python",
   "name": "python",
   "nbconvert_exporter": "python",
   "pygments_lexer": "ipython3",
   "version": "3.8.5"
  }
 },
 "nbformat": 4,
 "nbformat_minor": 4
}
