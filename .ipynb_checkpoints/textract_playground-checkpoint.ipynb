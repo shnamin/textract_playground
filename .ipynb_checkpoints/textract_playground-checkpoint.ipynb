{
 "cells": [
  {
   "cell_type": "markdown",
   "metadata": {},
   "source": [
    "# A playground for Amazon textract"
   ]
  },
  {
   "cell_type": "markdown",
   "metadata": {},
   "source": [
    "Make sure your default aws credentials are properly defined. In linux, the credentials file lives in `~/.aws/credentials`.\n",
    "\n",
    "More info on this here: `https://docs.aws.amazon.com/textract/latest/dg/setup-awscli-sdk.html`\n",
    "Make sure your user has `AmazonTextractFullAccess` permission"
   ]
  },
  {
   "cell_type": "code",
   "execution_count": 1,
   "metadata": {},
   "outputs": [],
   "source": [
    "s3_bucket = 'datarock-textract-test'\n",
    "input_dir = 'data'\n",
    "results_dir = 'results'"
   ]
  },
  {
   "cell_type": "code",
   "execution_count": 2,
   "metadata": {},
   "outputs": [],
   "source": [
    "import boto3\n",
    "import cv2\n",
    "import numpy as np"
   ]
  },
  {
   "cell_type": "code",
   "execution_count": 3,
   "metadata": {},
   "outputs": [
    {
     "name": "stdout",
     "output_type": "stream",
     "text": [
      "7 files found in s3://datarock-textract-test/data directory\n"
     ]
    }
   ],
   "source": [
    "#get list of documents in the s3 bucket/input_dir\n",
    "import boto3\n",
    "s3 = boto3.resource('s3')\n",
    "my_bucket = s3.Bucket(s3_bucket)\n",
    "img_names=[]\n",
    "for object_summary in my_bucket.objects.filter(Prefix=input_dir+'/'):\n",
    "    \n",
    "    file_name=object_summary.key.replace(input_dir+'/','')\n",
    "    if len(file_name)>0 :\n",
    "        img_names.append(file_name )\n",
    "\n",
    "print(f'{len(img_names)} files found in {\"s3://\"+s3_bucket+\"/\"+input_dir} directory')"
   ]
  },
  {
   "cell_type": "markdown",
   "metadata": {},
   "source": [
    "methods in the textract client for synchronous results:\n",
    "\n",
    "analyze_document(): Analyzes an input document for relationships between detected items. It returns key value sets or tables, and can be used for human in the loop.\n",
    "\n",
    "detect_document_text(): Returns geometry (polygon and bbox), text and confidence\n",
    "\n",
    "The rest of the methods allow asynchronous calls to Textract"
   ]
  },
  {
   "cell_type": "code",
   "execution_count": null,
   "metadata": {},
   "outputs": [],
   "source": []
  },
  {
   "cell_type": "markdown",
   "metadata": {},
   "source": [
    "List of blocktypes:\n",
    "- PAGE: Contains a list of the LINE Block objects that are detected on a document page.\n",
    "\n",
    "- WORD: A word detected on a document page. A word is one or more ISO basic Latin script characters that aren't separated by spaces.\n",
    "\n",
    "- LINE: A string of tab-delimited, contiguous words that are detected on a document page. \n",
    "\n",
    "\n",
    "In text analysis operations, the following types are returned:\n",
    "\n",
    "- PAGE: Contains a list of child Block objects that are detected on a document page.\n",
    "\n",
    "- KEY_VALUE_SET: Stores the KEY and VALUE Block objects for linked text that's detected on a document page. Use the EntityType field to determine if a KEY_VALUE_SET object is a KEY Block object or a VALUE Block object.\n",
    "\n",
    "- WORD: A word that's detected on a document page. A word is one or more ISO basic Latin script characters that aren't separated by spaces.\n",
    "\n",
    "- LINE: A string of tab-delimited, contiguous words that are detected on a document page.\n",
    "\n",
    "- TABLE: A table that's detected on a document page. A table is grid-based information with two or more rows or columns, with a cell span of one row and one column each.\n",
    "\n",
    "- CELL: A cell within a detected table. The cell is the parent of the block that contains the text in the cell.\n",
    "\n",
    "- SELECTION_ELEMENT: A selection element such as an option button (radio button) or a check box that's detected on a document page. Use the value of SelectionStatus to determine the status of the selection element."
   ]
  },
  {
   "cell_type": "code",
   "execution_count": 4,
   "metadata": {
    "scrolled": true
   },
   "outputs": [],
   "source": [
    "#running textract on images and parsing the results:\n",
    "textract=boto3.client('textract')\n",
    "responses={}\n",
    "for img_name in img_names:\n",
    "    response=textract.detect_document_text(Document={\n",
    "         'S3Object': {\n",
    "                'Bucket': s3_bucket,\n",
    "                'Name': input_dir+'/'+img_name\n",
    "            }\n",
    "\n",
    "    })\n",
    "    responses[img_name]=response['Blocks']\n"
   ]
  },
  {
   "cell_type": "code",
   "execution_count": 5,
   "metadata": {
    "scrolled": true
   },
   "outputs": [
    {
     "data": {
      "text/plain": [
       "[{'BlockType': 'PAGE',\n",
       "  'Geometry': {'BoundingBox': {'Width': 0.9691512584686279,\n",
       "    'Height': 0.9673818945884705,\n",
       "    'Left': 0.0046663773246109486,\n",
       "    'Top': 0.010241251438856125},\n",
       "   'Polygon': [{'X': 0.0057899258099496365, 'Y': 0.010241251438856125},\n",
       "    {'X': 0.958276093006134, 'Y': 0.028770117089152336},\n",
       "    {'X': 0.9738176465034485, 'Y': 0.9776231646537781},\n",
       "    {'X': 0.0046663773246109486, 'Y': 0.9748016595840454}]},\n",
       "  'Id': '1023f678-e300-4f3c-8f27-6e481d74bee9',\n",
       "  'Relationships': [{'Type': 'CHILD',\n",
       "    'Ids': ['cc807979-dace-4aea-91a4-217e81079f53',\n",
       "     '157271f0-8a9f-491b-a2bb-0c3b7ad54791']}]},\n",
       " {'BlockType': 'LINE',\n",
       "  'Confidence': 96.54811096191406,\n",
       "  'Text': 'TRAY 142',\n",
       "  'Geometry': {'BoundingBox': {'Width': 0.09914443641901016,\n",
       "    'Height': 0.020945116877555847,\n",
       "    'Left': 0.16762809455394745,\n",
       "    'Top': 0.07973362505435944},\n",
       "   'Polygon': [{'X': 0.16762809455394745, 'Y': 0.07973362505435944},\n",
       "    {'X': 0.26670292019844055, 'Y': 0.08154790848493576},\n",
       "    {'X': 0.2667725384235382, 'Y': 0.10067874193191528},\n",
       "    {'X': 0.1676628589630127, 'Y': 0.09889648854732513}]},\n",
       "  'Id': 'cc807979-dace-4aea-91a4-217e81079f53',\n",
       "  'Relationships': [{'Type': 'CHILD',\n",
       "    'Ids': ['98335ba2-960e-43d9-b996-77cd9c4e098b',\n",
       "     '96cb71a4-0340-4ff6-a31e-52e17d00d791']}]},\n",
       " {'BlockType': 'LINE',\n",
       "  'Confidence': 73.01734924316406,\n",
       "  'Text': 'cecoz TKY 143',\n",
       "  'Geometry': {'BoundingBox': {'Width': 0.19749592244625092,\n",
       "    'Height': 0.03199610859155655,\n",
       "    'Left': 0.3047938644886017,\n",
       "    'Top': 0.5391877889633179},\n",
       "   'Polygon': [{'X': 0.3047938644886017, 'Y': 0.5391877889633179},\n",
       "    {'X': 0.5020532011985779, 'Y': 0.5412462949752808},\n",
       "    {'X': 0.5022897720336914, 'Y': 0.5711839199066162},\n",
       "    {'X': 0.30492308735847473, 'Y': 0.5692265033721924}]},\n",
       "  'Id': '157271f0-8a9f-491b-a2bb-0c3b7ad54791',\n",
       "  'Relationships': [{'Type': 'CHILD',\n",
       "    'Ids': ['2fc77ada-e37c-493b-b67a-298f17e02726',\n",
       "     'cc3b8342-ab1b-481d-b36b-a93514648229',\n",
       "     '3c066b8c-c2a4-452f-aece-81e01063622d']}]},\n",
       " {'BlockType': 'WORD',\n",
       "  'Confidence': 96.82100677490234,\n",
       "  'Text': 'TRAY',\n",
       "  'Geometry': {'BoundingBox': {'Width': 0.05356884002685547,\n",
       "    'Height': 0.019305376335978508,\n",
       "    'Left': 0.16762809455394745,\n",
       "    'Top': 0.07973362505435944},\n",
       "   'Polygon': [{'X': 0.16762809455394745, 'Y': 0.07973362505435944},\n",
       "    {'X': 0.2211456298828125, 'Y': 0.080713652074337},\n",
       "    {'X': 0.22119693458080292, 'Y': 0.0990390032529831},\n",
       "    {'X': 0.1676613688468933, 'Y': 0.09807553142309189}]},\n",
       "  'Id': '98335ba2-960e-43d9-b996-77cd9c4e098b'},\n",
       " {'BlockType': 'WORD',\n",
       "  'Confidence': 96.27521514892578,\n",
       "  'Text': '142',\n",
       "  'Geometry': {'BoundingBox': {'Width': 0.033220794051885605,\n",
       "    'Height': 0.019081074744462967,\n",
       "    'Left': 0.2335517406463623,\n",
       "    'Top': 0.08159767091274261},\n",
       "   'Polygon': [{'X': 0.2335517406463623, 'Y': 0.08159767091274261},\n",
       "    {'X': 0.26670533418655396, 'Y': 0.0822044089436531},\n",
       "    {'X': 0.2667725384235382, 'Y': 0.10067874938249588},\n",
       "    {'X': 0.2336076945066452, 'Y': 0.10008235275745392}]},\n",
       "  'Id': '96cb71a4-0340-4ff6-a31e-52e17d00d791'},\n",
       " {'BlockType': 'WORD',\n",
       "  'Confidence': 66.3361587524414,\n",
       "  'Text': 'cecoz',\n",
       "  'Geometry': {'BoundingBox': {'Width': 0.06974317133426666,\n",
       "    'Height': 0.022290382534265518,\n",
       "    'Left': 0.3047938644886017,\n",
       "    'Top': 0.5391877889633179},\n",
       "   'Polygon': [{'X': 0.3047938644886017, 'Y': 0.5391877889633179},\n",
       "    {'X': 0.37441685795783997, 'Y': 0.5399143695831299},\n",
       "    {'X': 0.37453702092170715, 'Y': 0.5614781975746155},\n",
       "    {'X': 0.30488675832748413, 'Y': 0.5607773065567017}]},\n",
       "  'Id': '2fc77ada-e37c-493b-b67a-298f17e02726'},\n",
       " {'BlockType': 'WORD',\n",
       "  'Confidence': 63.004154205322266,\n",
       "  'Text': 'TKY',\n",
       "  'Geometry': {'BoundingBox': {'Width': 0.05509806051850319,\n",
       "    'Height': 0.025299187749624252,\n",
       "    'Left': 0.3939334452152252,\n",
       "    'Top': 0.5426414012908936},\n",
       "   'Polygon': [{'X': 0.3939334452152252, 'Y': 0.5426414012908936},\n",
       "    {'X': 0.4488601088523865, 'Y': 0.5432121753692627},\n",
       "    {'X': 0.4490315020084381, 'Y': 0.5679405927658081},\n",
       "    {'X': 0.39408019185066223, 'Y': 0.5673930048942566}]},\n",
       "  'Id': 'cc3b8342-ab1b-481d-b36b-a93514648229'},\n",
       " {'BlockType': 'WORD',\n",
       "  'Confidence': 89.71173095703125,\n",
       "  'Text': '143',\n",
       "  'Geometry': {'BoundingBox': {'Width': 0.04255703464150429,\n",
       "    'Height': 0.02817963808774948,\n",
       "    'Left': 0.4597327709197998,\n",
       "    'Top': 0.5430042743682861},\n",
       "   'Polygon': [{'X': 0.4597327709197998, 'Y': 0.5430042743682861},\n",
       "    {'X': 0.5020706057548523, 'Y': 0.5434445142745972},\n",
       "    {'X': 0.5022897720336914, 'Y': 0.5711839199066162},\n",
       "    {'X': 0.4599306583404541, 'Y': 0.5707638263702393}]},\n",
       "  'Id': '3c066b8c-c2a4-452f-aece-81e01063622d'}]"
      ]
     },
     "execution_count": 5,
     "metadata": {},
     "output_type": "execute_result"
    }
   ],
   "source": [
    "#let's have a look at one of the results:\n",
    "responses[img_names[0]]"
   ]
  },
  {
   "cell_type": "code",
   "execution_count": 6,
   "metadata": {},
   "outputs": [],
   "source": [
    "# #analyze document\n",
    "# response=textract.analyze_document(Document={\n",
    "#      'S3Object': {\n",
    "#             'Bucket': s3_bucket,\n",
    "#             'Name': input_dir+'/'+img_names[0]\n",
    "#         }},\n",
    "#     FeatureTypes=['TABLES','FORMS']\n",
    "# )['Blocks']\n",
    "# response\n",
    "## The results are the same as detect_document_text for rock images "
   ]
  },
  {
   "cell_type": "code",
   "execution_count": 7,
   "metadata": {},
   "outputs": [],
   "source": [
    "#Let's draw the found text on the image and save the image to the output directory"
   ]
  },
  {
   "cell_type": "code",
   "execution_count": 8,
   "metadata": {},
   "outputs": [],
   "source": [
    "s3 = boto3.resource('s3')\n",
    "s3_client = boto3.client('s3')\n",
    "def download_into_memory(s3_client,bucket_name,file_url):\n",
    "    s3_response_object = s3_client.get_object(Bucket=bucket_name, Key=file_url)\n",
    "    object_content = s3_response_object['Body'].read()\n",
    "    return object_content\n",
    "def convert_to_img(img_content):\n",
    "    image = np.asarray(bytearray(img_content), dtype=\"uint8\")\n",
    "    image = cv2.imdecode(image, cv2.IMREAD_COLOR)\n",
    "    return image\n",
    "\n",
    "def save_img_to_s3_bucket(img,s3_client,bucket_name,file_url):\n",
    "    img_str = cv2.imencode('.jpg', img)[1].tostring()\n",
    "    s3_client.put_object(Bucket=bucket_name, Key = file_url, Body = img_str, ContentType= 'image/jpeg')  "
   ]
  },
  {
   "cell_type": "code",
   "execution_count": 9,
   "metadata": {},
   "outputs": [],
   "source": [
    "def get_color_codes():\n",
    "    colors={} #Colors in BGR\n",
    "    colors['PAGE'] = (255,0,0) # Blue\n",
    "    colors['LINE']= (0,255,0) #Green\n",
    "    colors['WORD'] = (0,0,255) #Red\n",
    "    return colors"
   ]
  },
  {
   "cell_type": "code",
   "execution_count": 14,
   "metadata": {},
   "outputs": [],
   "source": [
    "font = cv2.FONT_HERSHEY_SIMPLEX\n",
    "\n",
    "def convert_bbox_to_coords(img_size,bbox):\n",
    "    #x coords\n",
    "    start_point_x = int(img_size[1]* bbox['Left'])\n",
    "    end_point_x = int(start_point_x + img_size[1]*bbox['Width'])\n",
    "    #y coords\n",
    "    start_point_y = int(img_size[0] * bbox['Top'])\n",
    "    end_point_y = int(start_point_y + img_size[0] * bbox['Height'])\n",
    "    \n",
    "    return (start_point_x,start_point_y) , (end_point_x,end_point_y)\n",
    "\n",
    "def draw_on_top_of_img(img,textract_results,color_codes):\n",
    "    for text_result in textract_results:\n",
    "        if 'Text' in text_result.keys():\n",
    "            drawing_color = color_codes[text_result['BlockType']]\n",
    "            start_pnt,end_pnt = convert_bbox_to_coords(img.shape,text_result['Geometry']['BoundingBox'])\n",
    "            img = cv2.rectangle(img, start_pnt, end_pnt, drawing_color, thickness=2) \n",
    "            cv2.putText(img, text_result['Text'], (start_pnt[0]+10,start_pnt[1]+30), font, 1, drawing_color, 2, cv2.LINE_AA)\n",
    "    return img"
   ]
  },
  {
   "cell_type": "code",
   "execution_count": 16,
   "metadata": {},
   "outputs": [
    {
     "name": "stdout",
     "output_type": "stream",
     "text": [
      "CE002_142+143_469.20_476.20.jpg\n",
      "UE108_005+006_13.90_20.95.JPG\n",
      "UE108_013+014_42.15_48.85.JPG\n",
      "UE108_021+022_69.25_76.05.JPG\n",
      "UE108_029+030_97.15_104.15.JPG\n",
      "UE108_063+064_217.25_224.00.JPG\n",
      "UE108_089+090_308.00_314.95.JPG\n"
     ]
    }
   ],
   "source": [
    "color_codes = get_color_codes()\n",
    "for img_name in img_names:\n",
    "    print(img_name)\n",
    "    img_content = download_into_memory(s3_client,s3_bucket,input_dir+'/'+img_name)\n",
    "    img = convert_to_img(img_content)\n",
    "    resp = responses[img_name]\n",
    "    img=draw_on_top_of_img(img,resp,color_codes)\n",
    "    save_img_to_s3_bucket(img,s3_client,s3_bucket,results_dir+'/'+img_names[0])"
   ]
  },
  {
   "cell_type": "code",
   "execution_count": null,
   "metadata": {},
   "outputs": [],
   "source": []
  }
 ],
 "metadata": {
  "kernelspec": {
   "display_name": "Python 3",
   "language": "python",
   "name": "python3"
  },
  "language_info": {
   "codemirror_mode": {
    "name": "ipython",
    "version": 3
   },
   "file_extension": ".py",
   "mimetype": "text/x-python",
   "name": "python",
   "nbconvert_exporter": "python",
   "pygments_lexer": "ipython3",
   "version": "3.7.3"
  }
 },
 "nbformat": 4,
 "nbformat_minor": 4
}
